{
 "cells": [
  {
   "cell_type": "markdown",
   "metadata": {},
   "source": [
    "[<img style=\"float: left;\" border=\"5\" src=\"image/mahesh_tangkuban_perahu_small.jpg\">](image/mahesh_tangkuban_perahu.jpg)\n",
    "[<img style=\"float: right;\" border=\"5\" src=\"image/family_small.jpg\">](family_pictures.html)\n",
    " # &nbsp; Welcome to Git Hub page of Mahesh Yadav \n",
    " "
   ]
  },
  {
   "cell_type": "markdown",
   "metadata": {},
   "source": [
    "## Data Science\n",
    "\n",
    "* &nbsp; [<font color=\"#DC143C\">Self-executed project - For showcasing Data Science Bank Marketing Project in R</font>](https://mahesh-y.github.io/ds_bank_marketing_r.html)\n",
    "* &nbsp; [<font color=\"#DC143C\">Resume for Data Scientist ( in pdf )</font>](https://mahesh-y.github.io/ds_resume_myadav_2017.pdf)\n",
    "* &nbsp;   [Basic project with Iris in R](https://mahesh-y.github.io/basic_iris_r.html) &nbsp; |  &nbsp; [Basic project with Iris in Python](https://mahesh-y.github.io/basic_iris_python.html) &nbsp;&nbsp;&nbsp;&nbsp; (Last Updated Aug-2017. Not yet complete)\n",
    "* &nbsp; [100 example with R](100_exercises_in_r.html)  &nbsp; | &nbsp; [100 example with Python](100_exercises_in_python.html) &nbsp;&nbsp;&nbsp;&nbsp; (Last Updated Aug-2017. Not yet complete, only 10 problems thus far ;))\n",
    "\n",
    "* My reference for:\n",
    "    - [Confusion Matrix, Accuracy and Kappa](ref_confusion_matrix.html#11_caret_package)\n",
    "    - Learn dplyr by comparison with Base R - [how dplyr replaced my most common r idioms](http://www.onthelambda.com/2014/02/10/how-dplyr-replaced-my-most-common-r-idioms/)\n",
    "    \n",
    "    \n",
    "* [My Ph.D. thesis in Physics](thesis_mahesh_yadav_1997.pdf) (14MB size)\n",
    "\n",
    "\n",
    "## Helper to my Daughter for A Level H2 Exam\n",
    "\n",
    "* &nbsp;   [Physics Index](https://mahesh-y.github.io/physics_index.html)"
   ]
  }
 ],
 "metadata": {
  "kernelspec": {
   "display_name": "Python 3",
   "language": "python",
   "name": "python3"
  },
  "language_info": {
   "codemirror_mode": {
    "name": "ipython",
    "version": 3
   },
   "file_extension": ".py",
   "mimetype": "text/x-python",
   "name": "python",
   "nbconvert_exporter": "python",
   "pygments_lexer": "ipython3",
   "version": "3.6.1"
  }
 },
 "nbformat": 4,
 "nbformat_minor": 1
}

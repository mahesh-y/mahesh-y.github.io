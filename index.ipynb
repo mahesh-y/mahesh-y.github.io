{
 "cells": [
  {
   "cell_type": "markdown",
   "metadata": {},
   "source": [
    "[<img style=\"float: left;\" border=\"5\" src=\"image/mahesh_tangkuban_perahu_small.jpg\">](image/mahesh_tangkuban_perahu.jpg)\n",
    "[<img style=\"float: right;\" border=\"5\" src=\"image/family_small.jpg\">](family_pictures.html)\n",
    " # &nbsp; Welcome to Git Hub page of Mahesh Yadav \n",
    " "
   ]
  },
  {
   "cell_type": "markdown",
   "metadata": {},
   "source": [
    "## Data Science\n",
    "\n",
    "* &nbsp; [<font color=\"#DC143C\">Self-executed project - For showcasing Data Science Bank Marketing Project in R</font>](https://mahesh-y.github.io/ds_bank_marketing_r.html)\n",
    "* &nbsp; [<font color=\"#DC143C\">Resume for Data Scientist ( in pdf )</font>](https://mahesh-y.github.io/ds_resume_myadav_2017.pdf)\n",
    "* &nbsp;   [Basic project with Iris in R](https://mahesh-y.github.io/basic_iris_r.html) &nbsp; |  &nbsp; [Basic project with Iris in Python](https://mahesh-y.github.io/basic_iris_python.html) &nbsp;&nbsp;&nbsp;&nbsp; (Last Updated Aug-2017. Not yet complete)\n",
    "* &nbsp; [100 example with R](100_exercises_in_r.html)  &nbsp; | &nbsp; [100 example with Python](100_exercises_in_python.html) &nbsp;&nbsp;&nbsp;&nbsp; (Last Updated Aug-2017. Not yet complete, only 10 problems thus far ;))\n",
    "\n",
    "* My reference for:\n",
    "    - [Confusion Matrix, Accuracy and Kappa](ref_confusion_matrix.html#11_caret_package)\n",
    "    - Learn dplyr by comparison with Base R - [how dplyr replaced my most common r idioms](http://www.onthelambda.com/2014/02/10/how-dplyr-replaced-my-most-common-r-idioms/)\n",
    "* Solving classification with highly unbalanced Response data:\n",
    "    - [Predicting Fraud with Autoencoders and Keras](https://tensorflow.rstudio.com/blog/keras-fraud-autoencoder.html)\n",
    "    - [tactics-to-combat-imbalanced-classes by Jason Brownlee](https://machinelearningmastery.com/tactics-to-combat-imbalanced-classes-in-your-machine-learning-dataset/)\n",
    "* Deep Learning:\n",
    "    - Deep-Learning-Made-Easy-With-R by Dr. N.D. Lewis (Great introduction for Neural Networks)\n",
    "    - [One of best explaination in short blog by Ujjwalkarn - Animated figures cleared lot of concepts](https://ujjwalkarn.me/2016/08/11/intuitive-explanation-convnets/)\n",
    "    - Deep Learning with Keras by Antonio Gulli and Sujit Pal\n",
    "    - [Google free cloud service - Google Colab - with GPU for free](https://medium.com/deep-learning-turkey/google-colab-free-gpu-tutorial-e113627b9f5d)\n",
    "    - [Amazing Coursera notes from Tess Ferrandez taught by Andrew Ng](https://www.slideshare.net/TessFerrandez/notes-from-coursera-deep-learning-courses-by-andrew-ng)\n",
    "* Text handling\n",
    "    - [Word cloud - 20 line code in R with Tidytext package](https://gist.github.com/sfirke/e3f0c27bd05c67c3caa21b09900b3b31)\n",
    "* Visualization\n",
    "    - [Image handling, graphics - vignette on magick R package](https://cran.r-project.org/web/packages/magick/vignettes/intro.html#drawing_and_graphics)\n",
    "* Good Internet Books (buy it if you can, to respect author's hard work)\n",
    "    - [Text Mining with R - Julia Silge & David Robinson](https://www.tidytextmining.com/index.html)\n",
    "    - [R for Data Science - Garrett Grolemund & Hadley Wickham](http://r4ds.had.co.nz/wrangle-intro.html)\n",
    "    - [ggplot2 - (build the book) - from the creator himself](https://github.com/hadley/ggplot2-book)  \n",
    "* Good articles\n",
    "    - [improve deep learning performance](https://machinelearningmastery.com/improve-deep-learning-performance/)\n",
    "    - [The most complete collection of best cheat sheats](https://twitter.com/KirkDBorne/status/954156039229923332/photo/1)\n",
    "    - [beginners guide to neural networks in Python](https://www.kdnuggets.com/2016/10/beginners-guide-neural-networks-python-scikit-learn.html)\n",
    "    - [Visualize the data structure with - <b>visdat</b> package](https://www.rdocumentation.org/packages/visdat/versions/0.1.0)\n",
    "    - [seven Visualizations you should learn in R](https://www.tatvic.com/blog/7-visualizations-learn-r/)\n",
    "    - [introduction to ggplot2 grammer](https://medium.com/@zoldin/introduction-to-ggplot2-the-grammar-81d10e11d908)\n",
    "    - [R powered web applications with Shiny](http://zevross.com/blog/2016/04/19/r-powered-web-applications-with-shiny-a-tutorial-and-cheat-sheet-with-40-example-apps/)\n",
    "    - [Boost your data munging with R](https://www.toptal.com/r/boost-your-data-munging-with-r)\n",
    "    - [Deep Learning with Keras in R](https://tensorflow.rstudio.com/blog/keras-customer-churn.html)\n",
    "    - [Prepare french english dataset machine translation](https://machinelearningmastery.com/prepare-french-english-dataset-machine-translation/)\n",
    "    - [intution behind bias variance trade off](https://datascienceintuition.wordpress.com/2018/01/04/intuition-behind-bias-variance-trade-off-lasso-and-ridge-regression/)\n",
    "    - [Cluster - Berkeley](https://www.stat.berkeley.edu/~s133/Cluster2a.html)\n",
    "    - [Seven methods for data dimensionality (features) reduction](https://www.kdnuggets.com/2015/05/7-methods-data-dimensionality-reduction.html) \n",
    "    - [Basic care and feeding of data in R](http://stat545.com/block006_care-feedi)\n",
    "    - [Text mining: Sentimental Analysis on Harry Potter novel](http://uc-r.github.io/sentiment_analysis)\n",
    "* Data science Marketplace\n",
    "    - [Certification in Data Science](https://www.hadoop360.datasciencecentral.com/blog/important-certifications-in-data-science)\n",
    "    - [Data science interview questions](https://www.datasciencecentral.com/profiles/blogs/109-commonly-asked-data-science-interview-questions?utm_content=buffer62c67&utm_medium=social&utm_source=twitter.com&utm_campaign=buffer)\n",
    "* [My Ph.D. thesis in Physics](thesis_mahesh_yadav_1997.pdf) (14MB size)\n",
    "\n",
    "\n",
    "## Helper to my Daughter\n",
    "\n",
    "* &nbsp;   [Physics Index](https://mahesh-y.github.io/physics_index.html)\n",
    "* [Payment of Credit Card debt - Finance 101 - Excel sheet](https://mahesh-y.github.io/credit_card_finance_101.xlsx)"
   ]
  }
 ],
 "metadata": {
  "kernelspec": {
   "display_name": "Python 3",
   "language": "python",
   "name": "python3"
  },
  "language_info": {
   "codemirror_mode": {
    "name": "ipython",
    "version": 3
   },
   "file_extension": ".py",
   "mimetype": "text/x-python",
   "name": "python",
   "nbconvert_exporter": "python",
   "pygments_lexer": "ipython3",
   "version": "3.6.1"
  }
 },
 "nbformat": 4,
 "nbformat_minor": 1
}

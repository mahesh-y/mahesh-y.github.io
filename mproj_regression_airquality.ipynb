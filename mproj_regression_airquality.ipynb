{
 "cells": [
  {
   "cell_type": "markdown",
   "metadata": {},
   "source": []
  },
  {
   "cell_type": "markdown",
   "metadata": {},
   "source": [
    "# Objective/Overview\n",
    "\n",
    "The objective of this project is to use neural network with keras to solve regression problem in Python and R. This project was originally done in Python in _Deep Learning with Keras_, from Antonio Gulli and Sujit Pal, Keras regression example - predicting benzene levels in the air. Here we redo this project in Python.\n",
    "\n",
    "This section executes blue part of the project flow shown in the figure below in R.\n",
    "<p></p>\n",
    "\n",
    "![](image/mproj_keras_regression_airquality.png)\n"
   ]
  },
  {
   "cell_type": "markdown",
   "metadata": {},
   "source": [
    "<p></p> \n",
    "* In previous section (in R shown in purple in figure above), we downloaded the data from web and did some basic cleaning.\n",
    "* In this section, we do the following\n",
    "  - Load the data which was processed in previous section\n",
    "  - Scale the variables (response and features)\n",
    "  - Split the sample in 70-30 for training and testing\n",
    "  - Define the model with one hidden layer and one output layer. The output layer has no activation function because it is regression problem.\n",
    "  - Run the model and predict for testing\n",
    "  - Meausre the performance with MSE and some visualization\n",
    "  \n",
    "## Links\n",
    "\n",
    "Following are the links for the code and report generated\n",
    "\n",
    "Relates to purple part of the project (see figure above).\n",
    "  - [Report in R](mproj_keras_regression_airquality_1_basic.html)\n",
    "  - [Code as Rmd file](mproj_keras_regression_airquality_1_basic.Rmd) (executed in Rstudio)\n",
    "\n",
    "Relates to blue part of the project (see figure above).\n",
    "  - [Report in R](mproj_keras_regression_airquality_2_keras.html)\n",
    "  - [Code as Rmd file](mproj_keras_regression_airquality_2_keras.Rmd) (executed in Rstudio)\n",
    "  - [Report in Python](mproj_regression_airquality.html) (This page!)\n",
    "  - [Code in Python](mproj_regression_airquality.ipynb) (executed in Jupyter)\n",
    "\n",
    "## Data source: \n",
    "\n",
    "Courtesy of https://archive.ics.uci.edu/ml/datasets/Air+Quality"
   ]
  },
  {
   "cell_type": "markdown",
   "metadata": {},
   "source": [
    "# Load Libraries"
   ]
  },
  {
   "cell_type": "code",
   "execution_count": 1,
   "metadata": {},
   "outputs": [
    {
     "name": "stderr",
     "output_type": "stream",
     "text": [
      "C:\\Users\\mahes\\Anaconda3\\lib\\site-packages\\h5py\\__init__.py:36: FutureWarning: Conversion of the second argument of issubdtype from `float` to `np.floating` is deprecated. In future, it will be treated as `np.float64 == np.dtype(float).type`.\n",
      "  from ._conv import register_converters as _register_converters\n",
      "Using TensorFlow backend.\n"
     ]
    }
   ],
   "source": [
    "from keras.layers import Input\n",
    "from keras.layers.core import Dense\n",
    "from keras.models import Model\n",
    "from sklearn.preprocessing import StandardScaler\n",
    "import matplotlib.pyplot as plt\n",
    "import numpy as np\n",
    "import os\n",
    "import pandas as pd"
   ]
  },
  {
   "cell_type": "markdown",
   "metadata": {},
   "source": [
    "# Read and Split the Data\n",
    "\n",
    "The following reads the clean data processed in previous section."
   ]
  },
  {
   "cell_type": "code",
   "execution_count": 2,
   "metadata": {},
   "outputs": [],
   "source": [
    "DATA_DIR = \"c:/ds_local/dataset/\"\n",
    "AIRQUALITY_FILE = os.path.join(DATA_DIR, \"AirQualityUCI_cleaned.csv\")\n",
    "aqdf = pd.read_csv(AIRQUALITY_FILE, sep=\",\", decimal=\".\", header=0)\n",
    "# remove first and last 2 cols\n",
    "#del aqdf[\"Date\"]\n",
    "#del aqdf[\"Time\"]\n",
    "#del aqdf[\"Unnamed: 15\"]\n",
    "#del aqdf[\"Unnamed: 16\"]\n",
    "# fill NaNs in each column with the mean value\n",
    "#aqdf = aqdf.fillna(aqdf.mean())\n",
    "df_data = aqdf.as_matrix()"
   ]
  },
  {
   "cell_type": "code",
   "execution_count": 3,
   "metadata": {},
   "outputs": [
    {
     "data": {
      "text/plain": [
       "numpy.ndarray"
      ]
     },
     "execution_count": 3,
     "metadata": {},
     "output_type": "execute_result"
    }
   ],
   "source": [
    "type(df_data)"
   ]
  },
  {
   "cell_type": "markdown",
   "metadata": {},
   "source": [
    "scale the variable as, $ z= {{x-\\mu}\\over{\\sigma}} $"
   ]
  },
  {
   "cell_type": "code",
   "execution_count": 4,
   "metadata": {},
   "outputs": [],
   "source": [
    "scaler = StandardScaler()\n",
    "trn = scaler.fit_transform(df_data)\n",
    "# store these off for predictions with unseen data\n",
    "Xmeans = scaler.mean_\n",
    "Xstds = scaler.scale_\n",
    "y_trn = trn[:, 3]\n",
    "x_trn = np.delete(trn, 3, axis=1)"
   ]
  },
  {
   "cell_type": "code",
   "execution_count": 5,
   "metadata": {},
   "outputs": [],
   "source": [
    "# split the train and test size as 70:30\n",
    "train_size = int(0.7 * trn.shape[0])\n",
    "x_trn_tr, x_trn_te, y_trn_tr, y_trn_te = x_trn[0:train_size], x_trn[train_size:],y_trn[0:train_size], y_trn[train_size:]"
   ]
  },
  {
   "cell_type": "markdown",
   "metadata": {},
   "source": [
    "# Defining the model\n",
    "\n",
    "* Layer 1: Input layer = No of features = 12\n",
    "* Layer 2: Hidden layer = 8 (data compression like PCA but non-linear)\n",
    "* Layer 3: output layer = 1. No activation as response is regression."
   ]
  },
  {
   "cell_type": "code",
   "execution_count": 6,
   "metadata": {},
   "outputs": [],
   "source": [
    "## This code works, but written smartly, but I prefer dumb code which is in next cell block\n",
    "#readings = Input(shape=(12,))\n",
    "#x = Dense(8, activation=\"relu\", kernel_initializer=\"glorot_uniform\")(readings)\n",
    "#benzene = Dense(1, kernel_initializer=\"glorot_uniform\")(x)\n",
    "#model = Model(inputs=[readings], outputs=[benzene])\n",
    "#model.compile(loss=\"mse\", optimizer=\"adam\")"
   ]
  },
  {
   "cell_type": "code",
   "execution_count": 7,
   "metadata": {},
   "outputs": [],
   "source": [
    "from keras.models import Sequential\n",
    "from keras.layers.core import Dense, Activation\n",
    "model = Sequential()\n",
    "model.add(Dense(8,input_shape=(12,), kernel_initializer=\"glorot_uniform\"))\n",
    "\n",
    "#, output_dim=8, kernel_initializer=\"glorot_uniform\"))\n",
    "model.add(Activation('relu'))\n",
    "model.add(Dense(units=1, kernel_initializer=\"glorot_uniform\")) # output_dim=1\n",
    "model.compile(loss=\"mse\", optimizer=\"adam\")"
   ]
  },
  {
   "cell_type": "code",
   "execution_count": 8,
   "metadata": {},
   "outputs": [
    {
     "name": "stdout",
     "output_type": "stream",
     "text": [
      "Train on 5239 samples, validate on 1310 samples\n",
      "Epoch 1/20\n",
      "5239/5239 [==============================] - 2s 306us/step - loss: 0.1553 - val_loss: 0.0407\n",
      "Epoch 2/20\n",
      "5239/5239 [==============================] - 1s 218us/step - loss: 0.0163 - val_loss: 0.0162\n",
      "Epoch 3/20\n",
      "5239/5239 [==============================] - 1s 159us/step - loss: 0.0076 - val_loss: 0.0080\n",
      "Epoch 4/20\n",
      "5239/5239 [==============================] - 1s 146us/step - loss: 0.0044 - val_loss: 0.0052\n",
      "Epoch 5/20\n",
      "5239/5239 [==============================] - 1s 164us/step - loss: 0.0030 - val_loss: 0.0039\n",
      "Epoch 6/20\n",
      "5239/5239 [==============================] - 1s 193us/step - loss: 0.0022 - val_loss: 0.0033\n",
      "Epoch 7/20\n",
      "5239/5239 [==============================] - 1s 192us/step - loss: 0.0018 - val_loss: 0.0029\n",
      "Epoch 8/20\n",
      "5239/5239 [==============================] - 1s 189us/step - loss: 0.0016 - val_loss: 0.0024\n",
      "Epoch 9/20\n",
      "5239/5239 [==============================] - 1s 189us/step - loss: 0.0013 - val_loss: 0.0022\n",
      "Epoch 10/20\n",
      "5239/5239 [==============================] - 1s 191us/step - loss: 0.0012 - val_loss: 0.0019\n",
      "Epoch 11/20\n",
      "5239/5239 [==============================] - 1s 191us/step - loss: 0.0010 - val_loss: 0.0019\n",
      "Epoch 12/20\n",
      "5239/5239 [==============================] - 1s 190us/step - loss: 9.1700e-04 - val_loss: 0.0021\n",
      "Epoch 13/20\n",
      "5239/5239 [==============================] - 1s 202us/step - loss: 8.6096e-04 - val_loss: 0.0016\n",
      "Epoch 14/20\n",
      "5239/5239 [==============================] - 1s 199us/step - loss: 7.7030e-04 - val_loss: 0.0014\n",
      "Epoch 15/20\n",
      "5239/5239 [==============================] - 1s 202us/step - loss: 6.3363e-04 - val_loss: 0.0014\n",
      "Epoch 16/20\n",
      "5239/5239 [==============================] - 1s 200us/step - loss: 6.1153e-04 - val_loss: 0.0012\n",
      "Epoch 17/20\n",
      "5239/5239 [==============================] - 1s 193us/step - loss: 5.3200e-04 - val_loss: 0.0012\n",
      "Epoch 18/20\n",
      "5239/5239 [==============================] - 1s 190us/step - loss: 4.4128e-04 - val_loss: 8.7463e-04\n",
      "Epoch 19/20\n",
      "5239/5239 [==============================] - 1s 192us/step - loss: 4.4299e-04 - val_loss: 8.5348e-04\n",
      "Epoch 20/20\n",
      "5239/5239 [==============================] - 1s 197us/step - loss: 4.3436e-04 - val_loss: 8.1191e-04\n"
     ]
    }
   ],
   "source": [
    "NUM_EPOCHS = 20\n",
    "BATCH_SIZE = 10\n",
    "history = model.fit(x_trn_tr, y_trn_tr, batch_size=BATCH_SIZE, epochs=NUM_EPOCHS,\n",
    "validation_split=0.2)"
   ]
  },
  {
   "cell_type": "code",
   "execution_count": 9,
   "metadata": {},
   "outputs": [
    {
     "ename": "NameError",
     "evalue": "name 'y_prd' is not defined",
     "output_type": "error",
     "traceback": [
      "\u001b[1;31m---------------------------------------------------------------------------\u001b[0m",
      "\u001b[1;31mNameError\u001b[0m                                 Traceback (most recent call last)",
      "\u001b[1;32m<ipython-input-9-27663f0c6164>\u001b[0m in \u001b[0;36m<module>\u001b[1;34m()\u001b[0m\n\u001b[1;32m----> 1\u001b[1;33m \u001b[0my_prd\u001b[0m\u001b[1;33m\u001b[0m\u001b[0m\n\u001b[0m",
      "\u001b[1;31mNameError\u001b[0m: name 'y_prd' is not defined"
     ]
    }
   ],
   "source": []
  },
  {
   "cell_type": "code",
   "execution_count": 13,
   "metadata": {},
   "outputs": [
    {
     "name": "stdout",
     "output_type": "stream",
     "text": [
      "Benzene Conc. expected: 4.600, predicted: 6.386\n",
      "Benzene Conc. expected: 5.500, predicted: 6.913\n",
      "Benzene Conc. expected: 6.500, predicted: 6.673\n",
      "Benzene Conc. expected: 10.300, predicted: 9.685\n",
      "Benzene Conc. expected: 8.900, predicted: 8.595\n",
      "Benzene Conc. expected: 14.000, predicted: 14.071\n",
      "Benzene Conc. expected: 9.200, predicted: 9.138\n",
      "Benzene Conc. expected: 8.200, predicted: 8.673\n",
      "Benzene Conc. expected: 7.200, predicted: 7.823\n",
      "Benzene Conc. expected: 5.500, predicted: 6.206\n"
     ]
    }
   ],
   "source": [
    "y_prd = model.predict(x_trn_te).flatten()\n",
    "y_trn_te_unscaled = (y_trn_te * Xstds[3]) + Xmeans[3]\n",
    "y_prd_unscaled = (y_prd * Xstds[3]) + Xmeans[3]\n",
    "\n",
    "for i in range(10):\n",
    "    y_true_i= (y_trn_te[i] * Xstds[3]) + Xmeans[3]\n",
    "    y_prd_i = (y_prd[i] * Xstds[3]) + Xmeans[3]\n",
    "    print(\"Benzene Conc. expected: {:.3f}, predicted: {:.3f}\".format(y_true_i, y_prd_i))\n"
   ]
  },
  {
   "cell_type": "code",
   "execution_count": null,
   "metadata": {},
   "outputs": [],
   "source": []
  },
  {
   "cell_type": "code",
   "execution_count": 14,
   "metadata": {},
   "outputs": [
    {
     "data": {
      "image/png": "[encoded data removed]",
      "text/plain": [
       "<matplotlib.figure.Figure at 0x1cb1d900128>"
      ]
     },
     "metadata": {},
     "output_type": "display_data"
    }
   ],
   "source": [
    "plt.plot(np.arange(y_trn_te.shape[0]), (y_trn_te * Xstds[3]) / Xmeans[3],color=\"b\", label=\"actual\")\n",
    "plt.plot(np.arange(y_prd.shape[0]), (y_prd * Xstds[3]) / Xmeans[3], color=\"r\", alpha=0.5, label=\"predicted\")\n",
    "plt.xlabel(\"time\")\n",
    "plt.ylabel(\"C6H6 concentrations\")\n",
    "plt.legend(loc=\"best\")\n",
    "plt.show()"
   ]
  },
  {
   "cell_type": "code",
   "execution_count": 15,
   "metadata": {},
   "outputs": [
    {
     "data": {
      "text/plain": [
       "0.05112992795684173"
      ]
     },
     "execution_count": 15,
     "metadata": {},
     "output_type": "execute_result"
    }
   ],
   "source": [
    "import math\n",
    "math.sqrt(sum((y_trn_te_unscaled-y_prd_unscaled)**2))/len(y_trn_te_unscaled)\n",
    "#(y_trn_te_unscaled-y_prd_unscaled)\n"
   ]
  }
 ],
 "metadata": {
  "kernelspec": {
   "display_name": "Python 3",
   "language": "python",
   "name": "python3"
  },
  "language_info": {
   "codemirror_mode": {
    "name": "ipython",
    "version": 3
   },
   "file_extension": ".py",
   "mimetype": "text/x-python",
   "name": "python",
   "nbconvert_exporter": "python",
   "pygments_lexer": "ipython3",
   "version": "3.6.4"
  }
 },
 "nbformat": 4,
 "nbformat_minor": 2
}
